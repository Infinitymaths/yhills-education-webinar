{
 "cells": [
  {
   "cell_type": "markdown",
   "id": "49bc32bd",
   "metadata": {},
   "source": [
    "# Session 1\n",
    "## In this we learnt about the installation of anaconda and set up of jupyter notebook \n",
    "### Then learnt about how to use the headings in jupyter. Then we done some basics of python which included data types, variables and different data structure like list, tuple and dictionary. \n",
    "#### Contents:- \n",
    "- **print** statement\n",
    "- Variable\n",
    "- Data types\n",
    "    * Integer\n",
    "    * character/string\n",
    "    * complex\n",
    "    * float\n",
    "    * boolean\n",
    "- Data Structure\n",
    "    * List\n",
    "    * Tuples\n",
    "    * Dictionary\n",
    "    * Set"
   ]
  },
  {
   "cell_type": "markdown",
   "id": "35e6679c",
   "metadata": {},
   "source": [
    "### Print Statement"
   ]
  },
  {
   "cell_type": "code",
   "execution_count": 1,
   "id": "52d9a4c5",
   "metadata": {},
   "outputs": [
    {
     "name": "stdout",
     "output_type": "stream",
     "text": [
      "Hello world!!\n"
     ]
    }
   ],
   "source": [
    "print(\"Hello world!!\")"
   ]
  },
  {
   "cell_type": "markdown",
   "id": "b4975b49",
   "metadata": {},
   "source": [
    "### Variable and the rules for writing variable\n",
    "#### Variable is nothing but an object which is used to store some values. this is useful when we want to accept some value from **USER**\n",
    "##### There are some rules for defining the variable\n"
   ]
  },
  {
   "cell_type": "code",
   "execution_count": 3,
   "id": "17da7e0e",
   "metadata": {},
   "outputs": [
    {
     "name": "stdout",
     "output_type": "stream",
     "text": [
      "apple\n"
     ]
    }
   ],
   "source": [
    "variable1 = \"apple\"\n",
    "print(variable1able1)"
   ]
  },
  {
   "cell_type": "markdown",
   "id": "0f3e3009",
   "metadata": {},
   "source": [
    "##### From the above code we can say that variable name can have Alphabets as well as numbers from 0 to 9"
   ]
  },
  {
   "cell_type": "code",
   "execution_count": 4,
   "id": "d714f67d",
   "metadata": {},
   "outputs": [
    {
     "ename": "SyntaxError",
     "evalue": "invalid syntax (Temp/ipykernel_8804/3131595307.py, line 1)",
     "output_type": "error",
     "traceback": [
      "\u001b[1;36m  File \u001b[1;32m\"C:\\Users\\SHARATH\\AppData\\Local\\Temp/ipykernel_8804/3131595307.py\"\u001b[1;36m, line \u001b[1;32m1\u001b[0m\n\u001b[1;33m    1variable = \"bananan\"\u001b[0m\n\u001b[1;37m     ^\u001b[0m\n\u001b[1;31mSyntaxError\u001b[0m\u001b[1;31m:\u001b[0m invalid syntax\n"
     ]
    }
   ],
   "source": [
    "1variable = \"bananan\"\n",
    "print(1variable)"
   ]
  },
  {
   "cell_type": "markdown",
   "id": "1284cd8c",
   "metadata": {},
   "source": [
    "##### From the above code we can say that numbers should not be at the starting"
   ]
  },
  {
   "cell_type": "code",
   "execution_count": 5,
   "id": "b780fe69",
   "metadata": {},
   "outputs": [
    {
     "ename": "SyntaxError",
     "evalue": "invalid syntax (Temp/ipykernel_8804/1901388618.py, line 1)",
     "output_type": "error",
     "traceback": [
      "\u001b[1;36m  File \u001b[1;32m\"C:\\Users\\SHARATH\\AppData\\Local\\Temp/ipykernel_8804/1901388618.py\"\u001b[1;36m, line \u001b[1;32m1\u001b[0m\n\u001b[1;33m    variable? = \"chikoo\"\u001b[0m\n\u001b[1;37m            ^\u001b[0m\n\u001b[1;31mSyntaxError\u001b[0m\u001b[1;31m:\u001b[0m invalid syntax\n"
     ]
    }
   ],
   "source": [
    "variable? = \"chikoo\""
   ]
  },
  {
   "cell_type": "markdown",
   "id": "cc06d2bc",
   "metadata": {},
   "source": [
    "##### From the above code we can say that we cannot use any special characters.. But there is an exception"
   ]
  },
  {
   "cell_type": "code",
   "execution_count": 6,
   "id": "615b1e9b",
   "metadata": {},
   "outputs": [],
   "source": [
    "variable_1 = \"sharath\""
   ]
  },
  {
   "cell_type": "markdown",
   "id": "290db0c5",
   "metadata": {},
   "source": [
    "##### From the above code we can say that we can use underscore _ in the variable name and even at the starting. for e.g.:- _variable1 is a legal variable name"
   ]
  },
  {
   "cell_type": "markdown",
   "id": "4d4ab8ca",
   "metadata": {},
   "source": [
    "## Finally what are the rules of writing a variable name"
   ]
  },
  {
   "cell_type": "markdown",
   "id": "06873cb2",
   "metadata": {},
   "source": [
    "1. Variable can have alphanumeric values i.e. A-Z,a-z and 0-9 digits\n",
    "2. Numbers cannot be added at the starting of the variable name i.e. you cannot have a variable named as 1variable. \n",
    "3. We cannot use any special character except underscore (_) \n",
    "4. Underscore can also be used at the starting of the variable name.\n",
    "5. Python is case sensitive\n",
    "6. Space is not allowed"
   ]
  },
  {
   "cell_type": "markdown",
   "id": "facfbfd8",
   "metadata": {},
   "source": [
    "## Data types\n",
    "____\n",
    "- Integer\n",
    "- String\n",
    "- Float\n",
    "- Boolean\n",
    "- complex"
   ]
  },
  {
   "cell_type": "markdown",
   "id": "52dc80d8",
   "metadata": {},
   "source": [
    "## Type function is used to get the data type of the variable"
   ]
  },
  {
   "cell_type": "markdown",
   "id": "919eca82",
   "metadata": {},
   "source": [
    "## Integer\n",
    "#### These are the values which doesn't have any decimal place"
   ]
  },
  {
   "cell_type": "code",
   "execution_count": 8,
   "id": "ef4f8ae8",
   "metadata": {},
   "outputs": [
    {
     "name": "stdout",
     "output_type": "stream",
     "text": [
      "12\n",
      "<class 'int'>\n"
     ]
    }
   ],
   "source": [
    "a = 12\n",
    "print(a)\n",
    "print(type(a))"
   ]
  },
  {
   "cell_type": "markdown",
   "id": "72bd5f54",
   "metadata": {},
   "source": [
    "## String\n",
    "#### string is nothing but characters like A-Z, a-z or any other special characters which is written in the double quotes _(\" \")_ or single quotes _(' ')_"
   ]
  },
  {
   "cell_type": "code",
   "execution_count": 9,
   "id": "0c7ca793",
   "metadata": {},
   "outputs": [
    {
     "name": "stdout",
     "output_type": "stream",
     "text": [
      "<class 'str'> <class 'str'>\n"
     ]
    }
   ],
   "source": [
    "string_variable = \"sharath\"\n",
    "string_variable_2 = 'apple'\n",
    "print(type(string_variable), type(string_variable_2))"
   ]
  },
  {
   "cell_type": "markdown",
   "id": "d2fa4e3b",
   "metadata": {},
   "source": [
    "#### If we write any value inside the quotes it will be treated as string whether it is integer or any other data type, once written inside the quotes it is treated as string"
   ]
  },
  {
   "cell_type": "markdown",
   "id": "7f25d24f",
   "metadata": {},
   "source": [
    "# Float\n",
    "### float values are numbers that have decimal points in them. for e.g.:- 4.21, 5.2333, etc"
   ]
  },
  {
   "cell_type": "code",
   "execution_count": 11,
   "id": "d71d690f",
   "metadata": {},
   "outputs": [
    {
     "name": "stdout",
     "output_type": "stream",
     "text": [
      "4.333\n",
      "<class 'float'>\n"
     ]
    }
   ],
   "source": [
    "float_variable = 4.333\n",
    "print(float_variable)\n",
    "print(type(float_variable))"
   ]
  },
  {
   "cell_type": "code",
   "execution_count": 12,
   "id": "dd1d0566",
   "metadata": {},
   "outputs": [
    {
     "name": "stdout",
     "output_type": "stream",
     "text": [
      "<class 'str'>\n"
     ]
    }
   ],
   "source": [
    "variable_1 = \"4.3233\" \n",
    "print(type(variable_1))"
   ]
  },
  {
   "cell_type": "markdown",
   "id": "4add6a00",
   "metadata": {},
   "source": [
    "#### As you can see that evethough the above variable has float value since, it is written inside the paranthesis it is treated as String"
   ]
  },
  {
   "cell_type": "markdown",
   "id": "e3ac26d1",
   "metadata": {},
   "source": [
    "# Boolean\n",
    "### this is nothing but values like True of False"
   ]
  },
  {
   "cell_type": "code",
   "execution_count": 13,
   "id": "d607c904",
   "metadata": {},
   "outputs": [
    {
     "name": "stdout",
     "output_type": "stream",
     "text": [
      "True\n",
      "<class 'bool'>\n"
     ]
    }
   ],
   "source": [
    "bool_variable = True\n",
    "print(bool_variable)\n",
    "print(type(bool_variable))"
   ]
  },
  {
   "cell_type": "code",
   "execution_count": 14,
   "id": "4e445c00",
   "metadata": {},
   "outputs": [
    {
     "name": "stdout",
     "output_type": "stream",
     "text": [
      "False\n",
      "<class 'str'>\n"
     ]
    }
   ],
   "source": [
    "bool_variable_1 = \"False\"\n",
    "print(bool_variable_1)\n",
    "print(type(bool_variable_1))"
   ]
  },
  {
   "cell_type": "markdown",
   "id": "074d19f7",
   "metadata": {},
   "source": [
    "#### since the value is written inside the quotes hence it is treated as string eventhough the value is boolean"
   ]
  },
  {
   "cell_type": "markdown",
   "id": "ebd87531",
   "metadata": {},
   "source": [
    "# Complex\n",
    "#### Complex numbers are nothing but the value which is written in a+jb value i.e. real +j imaginary"
   ]
  },
  {
   "cell_type": "code",
   "execution_count": 16,
   "id": "705f7f6c",
   "metadata": {},
   "outputs": [
    {
     "name": "stdout",
     "output_type": "stream",
     "text": [
      "(2+3j)\n",
      "<class 'complex'>\n"
     ]
    }
   ],
   "source": [
    "complex_variable = 2+3j\n",
    "print(complex_variable)\n",
    "print(type(complex_variable))"
   ]
  },
  {
   "cell_type": "markdown",
   "id": "6949b604",
   "metadata": {},
   "source": [
    "## Now we can conclude the data types and go to the Data structure part"
   ]
  },
  {
   "cell_type": "markdown",
   "id": "7049716f",
   "metadata": {},
   "source": [
    "# Data Structures in Python\n",
    "## Contents:- \n",
    "- List\n",
    "- Tuple\n",
    "- Set\n",
    "- Dictionary "
   ]
  },
  {
   "cell_type": "markdown",
   "id": "5d5f7566",
   "metadata": {},
   "source": [
    "# List\n",
    "## Features of list\n",
    "1. Allows heterogenous (elements can be of different data types)\n",
    "2. Index starts from 0\n",
    "3. elements of the list is mutable i.e the value once assigned can be changed\n",
    "4. [] is the representation of the list\n",
    "5. To access the elements of the list we can use the index value"
   ]
  },
  {
   "cell_type": "code",
   "execution_count": 23,
   "id": "429f0dff",
   "metadata": {},
   "outputs": [
    {
     "name": "stdout",
     "output_type": "stream",
     "text": [
      "['apple', 1, 1.3, True, 'sharath']\n",
      "<class 'list'>\n"
     ]
    }
   ],
   "source": [
    "list_1 = ['apple',1,1.3,True,'sharath']\n",
    "print(list_1)\n",
    "print(type(list_1))"
   ]
  },
  {
   "cell_type": "code",
   "execution_count": 24,
   "id": "0fb2d4bb",
   "metadata": {},
   "outputs": [
    {
     "data": {
      "text/plain": [
       "True"
      ]
     },
     "execution_count": 24,
     "metadata": {},
     "output_type": "execute_result"
    }
   ],
   "source": [
    "list_1[3]"
   ]
  },
  {
   "cell_type": "code",
   "execution_count": 25,
   "id": "9a10ddbc",
   "metadata": {},
   "outputs": [
    {
     "name": "stdout",
     "output_type": "stream",
     "text": [
      "['apple', 1, 1.3, True, 'sharath']\n"
     ]
    },
    {
     "data": {
      "text/plain": [
       "['apple', 1, 3.44, True, 'sharath']"
      ]
     },
     "execution_count": 25,
     "metadata": {},
     "output_type": "execute_result"
    }
   ],
   "source": [
    "print(list_1)\n",
    "list_1[2] = 3.44\n",
    "list_1"
   ]
  },
  {
   "cell_type": "code",
   "execution_count": 28,
   "id": "51ad1aba",
   "metadata": {},
   "outputs": [
    {
     "data": {
      "text/plain": [
       "['sharath', True, 3.44, 1, 'apple']"
      ]
     },
     "execution_count": 28,
     "metadata": {},
     "output_type": "execute_result"
    }
   ],
   "source": [
    "#reversing the list\n",
    "list_1.reverse()\n",
    "list_1"
   ]
  },
  {
   "cell_type": "markdown",
   "id": "becbbdfd",
   "metadata": {},
   "source": [
    "# Tuple\n",
    "## Features of tuple\n",
    "1. Allows heterogenous\n",
    "2. Index starts with 0 and retrieve using index\n",
    "3. Cannot change data once declared - immutable\n",
    "4. () is the representation of tuple"
   ]
  },
  {
   "cell_type": "code",
   "execution_count": 29,
   "id": "d0a6d130",
   "metadata": {},
   "outputs": [
    {
     "name": "stdout",
     "output_type": "stream",
     "text": [
      "(1, 3.22, True, 'sharath', (1+2j))\n",
      "<class 'tuple'>\n"
     ]
    }
   ],
   "source": [
    "tuple_1 = (1,3.22,True,'sharath',1+2j)\n",
    "print(tuple_1)\n",
    "print(type(tuple_1))"
   ]
  },
  {
   "cell_type": "markdown",
   "id": "2f564d81",
   "metadata": {},
   "source": [
    "### For creating a tuple we dont need the circular bracket as shown in the below example"
   ]
  },
  {
   "cell_type": "code",
   "execution_count": 31,
   "id": "84f8e489",
   "metadata": {},
   "outputs": [
    {
     "name": "stdout",
     "output_type": "stream",
     "text": [
      "(1, 3.22, True, 'sharath', (1+2j))\n",
      "<class 'tuple'>\n"
     ]
    }
   ],
   "source": [
    "tuple_2 = 1,3.22,True,'sharath',1+2j\n",
    "print(tuple_2)\n",
    "print(type(tuple_2))"
   ]
  },
  {
   "cell_type": "code",
   "execution_count": 32,
   "id": "9cfd9487",
   "metadata": {},
   "outputs": [
    {
     "data": {
      "text/plain": [
       "True"
      ]
     },
     "execution_count": 32,
     "metadata": {},
     "output_type": "execute_result"
    }
   ],
   "source": [
    "tuple_2[2]"
   ]
  },
  {
   "cell_type": "code",
   "execution_count": 33,
   "id": "e762fc55",
   "metadata": {},
   "outputs": [
    {
     "ename": "AttributeError",
     "evalue": "'tuple' object has no attribute 'reverse'",
     "output_type": "error",
     "traceback": [
      "\u001b[1;31m---------------------------------------------------------------------------\u001b[0m",
      "\u001b[1;31mAttributeError\u001b[0m                            Traceback (most recent call last)",
      "\u001b[1;32m~\\AppData\\Local\\Temp/ipykernel_8804/3131824839.py\u001b[0m in \u001b[0;36m<module>\u001b[1;34m\u001b[0m\n\u001b[1;32m----> 1\u001b[1;33m \u001b[0mtuple_2\u001b[0m\u001b[1;33m.\u001b[0m\u001b[0mreverse\u001b[0m\u001b[1;33m(\u001b[0m\u001b[1;33m)\u001b[0m\u001b[1;33m\u001b[0m\u001b[1;33m\u001b[0m\u001b[0m\n\u001b[0m",
      "\u001b[1;31mAttributeError\u001b[0m: 'tuple' object has no attribute 'reverse'"
     ]
    }
   ],
   "source": [
    "tuple_2.reverse()"
   ]
  },
  {
   "cell_type": "markdown",
   "id": "9a90c01d",
   "metadata": {},
   "source": [
    "### Since tuple is immutable hence, we cannot reverse or change anything in the tuple\n",
    "### this means we cannot even change the value at an index"
   ]
  },
  {
   "cell_type": "code",
   "execution_count": 34,
   "id": "31b56d1b",
   "metadata": {},
   "outputs": [
    {
     "ename": "TypeError",
     "evalue": "'tuple' object does not support item assignment",
     "output_type": "error",
     "traceback": [
      "\u001b[1;31m---------------------------------------------------------------------------\u001b[0m",
      "\u001b[1;31mTypeError\u001b[0m                                 Traceback (most recent call last)",
      "\u001b[1;32m~\\AppData\\Local\\Temp/ipykernel_8804/3985616125.py\u001b[0m in \u001b[0;36m<module>\u001b[1;34m\u001b[0m\n\u001b[0;32m      1\u001b[0m \u001b[1;31m#e.g.:-\u001b[0m\u001b[1;33m\u001b[0m\u001b[1;33m\u001b[0m\u001b[0m\n\u001b[1;32m----> 2\u001b[1;33m \u001b[0mtuple_2\u001b[0m\u001b[1;33m[\u001b[0m\u001b[1;36m0\u001b[0m\u001b[1;33m]\u001b[0m \u001b[1;33m=\u001b[0m \u001b[1;36m10\u001b[0m\u001b[1;33m\u001b[0m\u001b[1;33m\u001b[0m\u001b[0m\n\u001b[0m",
      "\u001b[1;31mTypeError\u001b[0m: 'tuple' object does not support item assignment"
     ]
    }
   ],
   "source": [
    "#e.g.:- \n",
    "tuple_2[0] = 10"
   ]
  },
  {
   "cell_type": "markdown",
   "id": "b4ec8c49",
   "metadata": {},
   "source": [
    "# Set\n",
    "1. Heterogenous values\n",
    "2. Does not allow duplicate values\n",
    "3. Cannot be accessed using index\n",
    "4. immutable using index but it can be mutate using various functions"
   ]
  },
  {
   "cell_type": "code",
   "execution_count": 35,
   "id": "1da5fd6e",
   "metadata": {},
   "outputs": [
    {
     "name": "stdout",
     "output_type": "stream",
     "text": [
      "{1, 2, 3, 4, 5, 'sharath', 'hi'}\n"
     ]
    }
   ],
   "source": [
    "set_1 = {1,2,3,1,1,5,4,'sharath','hi','sharath',True,'hi'}\n",
    "print(set_1)"
   ]
  },
  {
   "cell_type": "code",
   "execution_count": 36,
   "id": "3eadbeaf",
   "metadata": {},
   "outputs": [
    {
     "ename": "TypeError",
     "evalue": "'set' object is not subscriptable",
     "output_type": "error",
     "traceback": [
      "\u001b[1;31m---------------------------------------------------------------------------\u001b[0m",
      "\u001b[1;31mTypeError\u001b[0m                                 Traceback (most recent call last)",
      "\u001b[1;32m~\\AppData\\Local\\Temp/ipykernel_8804/4245654793.py\u001b[0m in \u001b[0;36m<module>\u001b[1;34m\u001b[0m\n\u001b[1;32m----> 1\u001b[1;33m \u001b[0mset_1\u001b[0m\u001b[1;33m[\u001b[0m\u001b[1;36m2\u001b[0m\u001b[1;33m]\u001b[0m\u001b[1;33m\u001b[0m\u001b[1;33m\u001b[0m\u001b[0m\n\u001b[0m",
      "\u001b[1;31mTypeError\u001b[0m: 'set' object is not subscriptable"
     ]
    }
   ],
   "source": [
    "set_1[2]"
   ]
  },
  {
   "cell_type": "code",
   "execution_count": 37,
   "id": "acbb1a06",
   "metadata": {},
   "outputs": [
    {
     "ename": "TypeError",
     "evalue": "'set' object does not support item assignment",
     "output_type": "error",
     "traceback": [
      "\u001b[1;31m---------------------------------------------------------------------------\u001b[0m",
      "\u001b[1;31mTypeError\u001b[0m                                 Traceback (most recent call last)",
      "\u001b[1;32m~\\AppData\\Local\\Temp/ipykernel_8804/2643388657.py\u001b[0m in \u001b[0;36m<module>\u001b[1;34m\u001b[0m\n\u001b[1;32m----> 1\u001b[1;33m \u001b[0mset_1\u001b[0m\u001b[1;33m[\u001b[0m\u001b[1;36m2\u001b[0m\u001b[1;33m]\u001b[0m \u001b[1;33m=\u001b[0m \u001b[1;36m100\u001b[0m\u001b[1;33m\u001b[0m\u001b[1;33m\u001b[0m\u001b[0m\n\u001b[0m",
      "\u001b[1;31mTypeError\u001b[0m: 'set' object does not support item assignment"
     ]
    }
   ],
   "source": [
    "set_1[2] = 100"
   ]
  },
  {
   "cell_type": "code",
   "execution_count": 38,
   "id": "ea8909ba",
   "metadata": {},
   "outputs": [
    {
     "data": {
      "text/plain": [
       "{1, 2, 3, 4, 5, 'sharath'}"
      ]
     },
     "execution_count": 38,
     "metadata": {},
     "output_type": "execute_result"
    }
   ],
   "source": [
    "set_1.remove('hi')\n",
    "set_1"
   ]
  },
  {
   "cell_type": "code",
   "execution_count": 39,
   "id": "d1a7b3d8",
   "metadata": {},
   "outputs": [
    {
     "data": {
      "text/plain": [
       "{1, 2, 3, 4, 5, 'Hi', 'sharath'}"
      ]
     },
     "execution_count": 39,
     "metadata": {},
     "output_type": "execute_result"
    }
   ],
   "source": [
    "set_1.add('Hi')\n",
    "set_1"
   ]
  },
  {
   "cell_type": "markdown",
   "id": "0829cf61",
   "metadata": {},
   "source": [
    "# Dictionary\n",
    "## Features of Dictionary\n",
    "1. Dictionary has key-value pair data structure\n",
    "2. Key is unique and value can be duplicated\n",
    "3. Can retrieve the value using the key\n",
    "4. can change the value using key \n",
    "5. Key is immutable"
   ]
  },
  {
   "cell_type": "code",
   "execution_count": 43,
   "id": "904db4b8",
   "metadata": {},
   "outputs": [
    {
     "data": {
      "text/plain": [
       "dict"
      ]
     },
     "execution_count": 43,
     "metadata": {},
     "output_type": "execute_result"
    }
   ],
   "source": [
    "dict_1 = {'a':'apple',1:'sharath',2:'banana',4:'chikoo',5:'apple'}\n",
    "type(dict_1)"
   ]
  },
  {
   "cell_type": "code",
   "execution_count": 44,
   "id": "3419655c",
   "metadata": {},
   "outputs": [
    {
     "name": "stdout",
     "output_type": "stream",
     "text": [
      "{'a': 'apple', 1: 'sharath', 2: 'banana', 4: 'chikoo', 5: 'apple'}\n"
     ]
    }
   ],
   "source": [
    "print(dict_1)"
   ]
  },
  {
   "cell_type": "code",
   "execution_count": 45,
   "id": "c47eb373",
   "metadata": {},
   "outputs": [
    {
     "data": {
      "text/plain": [
       "'sharath'"
      ]
     },
     "execution_count": 45,
     "metadata": {},
     "output_type": "execute_result"
    }
   ],
   "source": [
    "dict_1[1]"
   ]
  },
  {
   "cell_type": "code",
   "execution_count": 46,
   "id": "36a612d0",
   "metadata": {},
   "outputs": [
    {
     "data": {
      "text/plain": [
       "('apple', 'apple')"
      ]
     },
     "execution_count": 46,
     "metadata": {},
     "output_type": "execute_result"
    }
   ],
   "source": [
    "dict_1['a'],dict_1[5]"
   ]
  },
  {
   "cell_type": "markdown",
   "id": "ececc60a",
   "metadata": {},
   "source": [
    "## value cannot be used to access the key"
   ]
  },
  {
   "cell_type": "code",
   "execution_count": 48,
   "id": "b698ced5",
   "metadata": {},
   "outputs": [
    {
     "ename": "KeyError",
     "evalue": "'apple'",
     "output_type": "error",
     "traceback": [
      "\u001b[1;31m---------------------------------------------------------------------------\u001b[0m",
      "\u001b[1;31mKeyError\u001b[0m                                  Traceback (most recent call last)",
      "\u001b[1;32m~\\AppData\\Local\\Temp/ipykernel_8804/1448505921.py\u001b[0m in \u001b[0;36m<module>\u001b[1;34m\u001b[0m\n\u001b[1;32m----> 1\u001b[1;33m \u001b[0mdict_1\u001b[0m\u001b[1;33m[\u001b[0m\u001b[1;34m'apple'\u001b[0m\u001b[1;33m]\u001b[0m\u001b[1;33m\u001b[0m\u001b[1;33m\u001b[0m\u001b[0m\n\u001b[0m",
      "\u001b[1;31mKeyError\u001b[0m: 'apple'"
     ]
    }
   ],
   "source": [
    "dict_1['apple']"
   ]
  },
  {
   "cell_type": "code",
   "execution_count": 49,
   "id": "d2587ca4",
   "metadata": {},
   "outputs": [
    {
     "data": {
      "text/plain": [
       "{'a': 'apple', 1: 'sharath', 2: 'banana', 4: 'chikoo', 5: 'apple', 6: 'mango'}"
      ]
     },
     "execution_count": 49,
     "metadata": {},
     "output_type": "execute_result"
    }
   ],
   "source": [
    "dict_1[6] = 'mango'\n",
    "dict_1"
   ]
  },
  {
   "cell_type": "markdown",
   "id": "fc2dce28",
   "metadata": {},
   "source": [
    "### We cannot reverse the dictionary using any function too"
   ]
  },
  {
   "cell_type": "markdown",
   "id": "6f48d0df",
   "metadata": {},
   "source": [
    "# <center> _END OF THE SESSION_ </center>"
   ]
  }
 ],
 "metadata": {
  "kernelspec": {
   "display_name": "Python 3 (ipykernel)",
   "language": "python",
   "name": "python3"
  },
  "language_info": {
   "codemirror_mode": {
    "name": "ipython",
    "version": 3
   },
   "file_extension": ".py",
   "mimetype": "text/x-python",
   "name": "python",
   "nbconvert_exporter": "python",
   "pygments_lexer": "ipython3",
   "version": "3.9.7"
  }
 },
 "nbformat": 4,
 "nbformat_minor": 5
}
